{
 "cells": [
  {
   "cell_type": "code",
   "execution_count": 37,
   "metadata": {},
   "outputs": [],
   "source": [
    "from selenium import webdriver\n",
    "from selenium.webdriver.chrome.options import Options\n",
    "from bs4 import BeautifulSoup as bs\n",
    "import re\n",
    "import time\n",
    "import pandas as pd\n",
    "# browser = webdriver.Chrome()\n",
    "# browser = webdriver.Chrome(파일경로)\n",
    "options = Options() \n",
    "options.add_argument('--headless')\n",
    "driver = webdriver.Chrome('C:/Users/yhgil/chromedriver_win32/chromedriver.exe', options=options)  "
   ]
  },
  {
   "cell_type": "code",
   "execution_count": 25,
   "metadata": {},
   "outputs": [],
   "source": [
    "def slink(name):\n",
    "    table_open =open('C:/Users/yhgil/Desktop/Backup/area/'+name+'.txt', encoding = 'utf-8')\n",
    "    link1=[]\n",
    "    lines = table_open.readlines()\n",
    "    for line in lines:    \n",
    "        line_list = line.replace('\\n','')\n",
    "        link1.append(line_list)\n",
    "    table_open.close()\n",
    "    return link1"
   ]
  },
  {
   "cell_type": "code",
   "execution_count": 26,
   "metadata": {},
   "outputs": [],
   "source": [
    "def getrate(t):\n",
    "    url = 'https://www.mypetplus.co.kr'\n",
    "   \n",
    "    c = [] \n",
    "    for urll in t:\n",
    "        d=-1\n",
    "        driver.get(url+urll)\n",
    "        driver.implicitly_wait(5)\n",
    "        html = driver.page_source\n",
    "\n",
    "        r = bs(html, 'html.parser')\n",
    "\n",
    "        contents = r.find_all(\"div\", {\"class\" : \"star-bx\"})\n",
    "\n",
    "        for i in contents :\n",
    "            a=re.findall(\"\\d+\\.\\d+\", i.text)\n",
    "            b=re.findall(\"\\d+\", i.text)\n",
    "            if a !=[]:\n",
    "                d=float(a[0])\n",
    "            elif b!=[]: \n",
    "                d=float(b[0])\n",
    "        if d==-1 :\n",
    "            c.append('none')\n",
    "        else :\n",
    "            c.append(d)\n",
    "    return c"
   ]
  },
  {
   "cell_type": "code",
   "execution_count": 27,
   "metadata": {},
   "outputs": [],
   "source": [
    "def getcomment(t) :\n",
    "    url = 'https://www.mypetplus.co.kr'\n",
    "    blist=[]\n",
    "    contents = driver.find_elements_by_xpath('//*[@id=\"dPostScriptList\"]/div[2]') \n",
    "    \n",
    "    for urll in t:\n",
    "        driver.get(url+urll)\n",
    "        driver.implicitly_wait(5)\n",
    "        contents = driver.find_elements_by_xpath('//*[@id=\"dPostScriptList\"]/div[2]')\n",
    "        for content in contents:\n",
    "            a=content.text.split('**')\n",
    "            del a[0]\n",
    "            blist.append(a)\n",
    "    return blist"
   ]
  },
  {
   "cell_type": "code",
   "execution_count": 28,
   "metadata": {},
   "outputs": [],
   "source": [
    "def getcommentcount(t) :\n",
    "    url = 'https://www.mypetplus.co.kr'\n",
    "    blist=[]\n",
    "    contents = driver.find_elements_by_xpath('//*[@id=\"dPostScriptList\"]/div[2]') \n",
    "    \n",
    "    for urll in t:\n",
    "        driver.get(url+urll)\n",
    "        driver.implicitly_wait(5)\n",
    "        contents = driver.find_elements_by_xpath('//*[@id=\"dPostScriptList\"]/div[2]')\n",
    "        for content in contents:\n",
    "            a=content.text.split('**')\n",
    "            del a[0]\n",
    "            b=len(a)\n",
    "            blist.append(b)\n",
    "    return blist"
   ]
  },
  {
   "cell_type": "code",
   "execution_count": 29,
   "metadata": {},
   "outputs": [],
   "source": [
    "def getname(t):\n",
    "    url = 'https://www.mypetplus.co.kr'\n",
    "    clist=[]\n",
    "    for urll in t:\n",
    "        driver.get(url+urll)\n",
    "    \n",
    "        html = driver.page_source\n",
    "\n",
    "        r = bs(html, 'html.parser')\n",
    "\n",
    "        contents = r.find_all(\"h2\", {\"class\" : \"tit\"})\n",
    "        \n",
    "        for i in contents :\n",
    "            blist=[0,0]\n",
    "            a=i.text\n",
    "            alist=a.split('-')\n",
    "            blist[1]=alist[0].strip()\n",
    "            blist[0]=alist[1].strip()\n",
    "            clist.append(blist)\n",
    "    return clist"
   ]
  },
  {
   "cell_type": "code",
   "execution_count": 30,
   "metadata": {},
   "outputs": [],
   "source": [
    "def hname(t):\n",
    "    s1=[]\n",
    "    for i in range(len(t)):\n",
    "        s1.append(t[i][0])\n",
    "    return s1"
   ]
  },
  {
   "cell_type": "code",
   "execution_count": 31,
   "metadata": {},
   "outputs": [],
   "source": [
    "def rname(t):\n",
    "    s1=[]\n",
    "    for i in range(len(t)):\n",
    "        s1.append(t[i][1])\n",
    "    return s1"
   ]
  },
  {
   "cell_type": "code",
   "execution_count": 33,
   "metadata": {},
   "outputs": [],
   "source": [
    "path=['link', 'teeth', 'leg', 'eye', 'cancer', 'rock', 'intestine', 'baby']"
   ]
  },
  {
   "cell_type": "code",
   "execution_count": 12,
   "metadata": {},
   "outputs": [],
   "source": [
    "for name in path:\n",
    "    t=slink(name)\n",
    "    a=getname(t)\n",
    "    a1=hname(a)\n",
    "    a2=rname(a)\n",
    "    b=getcomment(t)\n",
    "    c=getrate(t)\n",
    "    d=getcommentcount(t)\n",
    "    data = {'hname' : a1, 'rname' : a2, 'area' : [name]*len(c), 'comment' : b, 'rating' : c, 'commentcounts' : d}\n",
    "    df=pd.DataFrame(data)\n",
    "    df.to_csv(name+\".csv\")"
   ]
  },
  {
   "cell_type": "code",
   "execution_count": 38,
   "metadata": {},
   "outputs": [
    {
     "data": {
      "text/plain": [
       "[5.0,\n",
       " 3.7,\n",
       " 'none',\n",
       " 5.0,\n",
       " 4.1,\n",
       " 5.0,\n",
       " 4.7,\n",
       " 4.9,\n",
       " 5.0,\n",
       " 'none',\n",
       " 4.7,\n",
       " 5.0,\n",
       " 4.8,\n",
       " 4.9,\n",
       " 5.0,\n",
       " 5.0,\n",
       " 4.9,\n",
       " 'none',\n",
       " 'none',\n",
       " 'none',\n",
       " 4.5,\n",
       " 4.9,\n",
       " 'none',\n",
       " 'none',\n",
       " 5.0,\n",
       " 5.0,\n",
       " 'none',\n",
       " 'none',\n",
       " 4.6,\n",
       " 5.0]"
      ]
     },
     "execution_count": 38,
     "metadata": {},
     "output_type": "execute_result"
    }
   ],
   "source": [
    "getrate(slink('link'))"
   ]
  },
  {
   "cell_type": "code",
   "execution_count": 34,
   "metadata": {},
   "outputs": [
    {
     "data": {
      "text/plain": [
       "['/Product/ProductInfo/Detail/13686',\n",
       " '/Product/ProductInfo/Detail/13571',\n",
       " '/Product/ProductInfo/Detail/9555',\n",
       " '/Product/ProductInfo/Detail/6225',\n",
       " '/Product/ProductInfo/Detail/6207',\n",
       " '/Product/ProductInfo/Detail/6192',\n",
       " '/Product/ProductInfo/Detail/6130',\n",
       " '/Product/ProductInfo/Detail/3876',\n",
       " '/Product/ProductInfo/Detail/4754',\n",
       " '/Product/ProductInfo/Detail/4589',\n",
       " '/Product/ProductInfo/Detail/4034',\n",
       " '/Product/ProductInfo/Detail/4551',\n",
       " '/Product/ProductInfo/Detail/4536',\n",
       " '/Product/ProductInfo/Detail/4487',\n",
       " '/Product/ProductInfo/Detail/4088',\n",
       " '/Product/ProductInfo/Detail/4201',\n",
       " '/Product/ProductInfo/Detail/4125',\n",
       " '/Product/ProductInfo/Detail/4069',\n",
       " '/Product/ProductInfo/Detail/4067',\n",
       " '/Product/ProductInfo/Detail/4014',\n",
       " '/Product/ProductInfo/Detail/3993',\n",
       " '/Product/ProductInfo/Detail/3959',\n",
       " '/Product/ProductInfo/Detail/3933',\n",
       " '/Product/ProductInfo/Detail/3906',\n",
       " '/Product/ProductInfo/Detail/3891',\n",
       " '/Product/ProductInfo/Detail/3890',\n",
       " '/Product/ProductInfo/Detail/3834',\n",
       " '/Product/ProductInfo/Detail/3733',\n",
       " '/Product/ProductInfo/Detail/3734',\n",
       " '/Product/ProductInfo/Detail/3804']"
      ]
     },
     "execution_count": 34,
     "metadata": {},
     "output_type": "execute_result"
    }
   ],
   "source": [
    "slink('link')"
   ]
  },
  {
   "cell_type": "code",
   "execution_count": 55,
   "metadata": {},
   "outputs": [],
   "source": [
    "for name in path:\n",
    "    t=slink(name)\n",
    "    c=getrate(t)\n",
    "    df=pd.read_csv(name+\".csv\")\n",
    "    del df['rating']\n",
    "    df['rating' ]=c\n",
    "    df.to_csv(name+\"real.csv\")"
   ]
  },
  {
   "cell_type": "code",
   "execution_count": 13,
   "metadata": {},
   "outputs": [
    {
     "data": {
      "text/plain": [
       "\"[' 2020-05-14\\\\n송곳니발치\\\\n견(묘) 종 :치와와\\\\n나이 :1살\\\\n몸무게 :2.1kg\\\\n암수 :여\\\\n거주지(시/구) : 서울 서초구\\\\n\\\\n중성화하면서 발치했는데 잘된것같아요\\\\n노련하게 잘 해주신 것 같아요 ㅡ\\\\n감사합니다~\\\\n노', ' 2020-05-14\\\\n감사합니다\\\\n견(묘) 종 : 치와와\\\\n나이 : 1살\\\\n몸무게 : 2.1kg\\\\n암수 : 여\\\\n거주지(시/구) :서울 서초구\\\\n\\\\n합리적인 비용에 신경써주셔서 감사합니다~\\\\n여자아이 수술은 처음이라 많이 걱정했는데 노련하게 잘 해주신 것 같아요! \\\\n다니던 병원이 이전해서 ㅠㅠ어디다녀야하나 고민했는데 조금 거리 있어도 이쪽으로 열심히 다니려구요:)\\\\n\\\\n원장님 감사합니다~~\\\\n정', ' 2020-04-25\\\\n의사선생님 사랑합니다?\\\\n오늘 둘째 중성화 시켰는데 너무 만족스럽습니다. \\\\n의사선생님 설명도 친절하시고 고객 입장에서 궁금한 점, 비용 나가는 부분 등 자세하고 차분하게 설명해주셔서 굉장히 많은 도움 되었습니다.\\\\n특히 수술이 대만족입니다. 첫째는 전에 홍대I병원에서 중성화 했는데 피딱지 진게 거의 1주일 넘어갈 때까지 있어서 계속 신경써줘야 했는데 둘째는 수술부위 완전 깔끔하고, 애도 아파하는 것 같지도 않고 너무 쌩쌩하게 잘 다니네요! 둘째보다 활력 넘치는 첫째는 수술 당일에 눈물 줄줄 흐르고 밥도 물도 잘 못먹고 시름시름 거렸어서 걱정 많았거든요...\\\\n직원분들도 너무 친절하시고 하나부터 열까지 잘 챙겨주셔서 정말 많은 감동 받았어요. 그 자리에서 바로 첫째 둘째 추가접종 예약하고 단골도장 찍었습니다. \\\\n여러분 진짜 여기 숨겨진 맛집 같은 곳이에요. 꼭 가보세요! 완전 추천합니다!!!\\\\n 천', ' 2020-04-17\\\\n진짜 너무 감사합니다\\\\n우리설이가 겁도 많아서 많이 아플까 걱정했는데 수술도 너무 깔끔하게 잘해주셨고 그 덕분에 수술저녁부터 회복해서 발랄하게 다녔어요 선생님들 너무 친절하시고 설이 간식도 무료로 챙겨주셨어요 케어나 가격이나 모든게 너무 좋았어요 감사합니다 ']\""
      ]
     },
     "execution_count": 13,
     "metadata": {},
     "output_type": "execute_result"
    }
   ],
   "source": [
    "df=pd.read_csv(\"link.csv\")\n",
    "t=df.comment[0].split(',')"
   ]
  },
  {
   "cell_type": "code",
   "execution_count": 19,
   "metadata": {},
   "outputs": [
    {
     "data": {
      "text/plain": [
       "[\"[' 2020-05-14\\\\n송곳니발치\\\\n견(묘) 종 :치와와\\\\n나이 :1살\\\\n몸무게 :2.1kg\\\\n암수 :여\\\\n거주지(시/구) : 서울 서초구\\\\n\\\\n중성화하면서 발치했는데 잘된것같아요\\\\n노련하게 잘 해주신 것 같아요 ㅡ\\\\n감사합니다~\\\\n노'\",\n",
       " \" ' 2020-05-14\\\\n감사합니다\\\\n견(묘) 종 : 치와와\\\\n나이 : 1살\\\\n몸무게 : 2.1kg\\\\n암수 : 여\\\\n거주지(시/구) :서울 서초구\\\\n\\\\n합리적인 비용에 신경써주셔서 감사합니다~\\\\n여자아이 수술은 처음이라 많이 걱정했는데 노련하게 잘 해주신 것 같아요! \\\\n다니던 병원이 이전해서 ㅠㅠ어디다녀야하나 고민했는데 조금 거리 있어도 이쪽으로 열심히 다니려구요:)\\\\n\\\\n원장님 감사합니다~~\\\\n정'\",\n",
       " \" ' 2020-04-25\\\\n의사선생님 사랑합니다?\\\\n오늘 둘째 중성화 시켰는데 너무 만족스럽습니다. \\\\n의사선생님 설명도 친절하시고 고객 입장에서 궁금한 점\",\n",
       " ' 비용 나가는 부분 등 자세하고 차분하게 설명해주셔서 굉장히 많은 도움 되었습니다.\\\\n특히 수술이 대만족입니다. 첫째는 전에 홍대I병원에서 중성화 했는데 피딱지 진게 거의 1주일 넘어갈 때까지 있어서 계속 신경써줘야 했는데 둘째는 수술부위 완전 깔끔하고',\n",
       " \" 애도 아파하는 것 같지도 않고 너무 쌩쌩하게 잘 다니네요! 둘째보다 활력 넘치는 첫째는 수술 당일에 눈물 줄줄 흐르고 밥도 물도 잘 못먹고 시름시름 거렸어서 걱정 많았거든요...\\\\n직원분들도 너무 친절하시고 하나부터 열까지 잘 챙겨주셔서 정말 많은 감동 받았어요. 그 자리에서 바로 첫째 둘째 추가접종 예약하고 단골도장 찍었습니다. \\\\n여러분 진짜 여기 숨겨진 맛집 같은 곳이에요. 꼭 가보세요! 완전 추천합니다!!!\\\\n 천'\",\n",
       " \" ' 2020-04-17\\\\n진짜 너무 감사합니다\\\\n우리설이가 겁도 많아서 많이 아플까 걱정했는데 수술도 너무 깔끔하게 잘해주셨고 그 덕분에 수술저녁부터 회복해서 발랄하게 다녔어요 선생님들 너무 친절하시고 설이 간식도 무료로 챙겨주셨어요 케어나 가격이나 모든게 너무 좋았어요 감사합니다 ']\"]"
      ]
     },
     "execution_count": 19,
     "metadata": {},
     "output_type": "execute_result"
    }
   ],
   "source": [
    "t=df.comment[0].split(',')\n",
    "t"
   ]
  },
  {
   "cell_type": "code",
   "execution_count": 20,
   "metadata": {},
   "outputs": [
    {
     "data": {
      "text/plain": [
       "\"[' 2020-05-14\\\\n송곳니발치\\\\n견(묘) 종 :치와와\\\\n나이 :1살\\\\n몸무게 :2.1kg\\\\n암수 :여\\\\n거주지(시/구) : 서울 서초구\\\\n\\\\n중성화하면서 발치했는데 잘된것같아요\\\\n노련하게 잘 해주신 것 같아요 ㅡ\\\\n감사합니다~\\\\n노'\""
      ]
     },
     "execution_count": 20,
     "metadata": {},
     "output_type": "execute_result"
    }
   ],
   "source": [
    "t[0]"
   ]
  },
  {
   "cell_type": "code",
   "execution_count": 24,
   "metadata": {},
   "outputs": [
    {
     "data": {
      "text/plain": [
       "['송곳니',\n",
       " '발치',\n",
       " '견',\n",
       " '묘',\n",
       " '종',\n",
       " '치와와',\n",
       " '나이',\n",
       " '살',\n",
       " '몸무게',\n",
       " '암수',\n",
       " '여',\n",
       " '거주지',\n",
       " '시',\n",
       " '구',\n",
       " '서울',\n",
       " '서초구',\n",
       " '중성',\n",
       " '발치',\n",
       " '것',\n",
       " '노련',\n",
       " '해주시',\n",
       " '것']"
      ]
     },
     "execution_count": 24,
     "metadata": {},
     "output_type": "execute_result"
    }
   ],
   "source": [
    "from konlpy.tag import Komoran\n",
    "\n",
    "komoran = Komoran()\n",
    "komoran.nouns(t[0])"
   ]
  },
  {
   "cell_type": "code",
   "execution_count": 26,
   "metadata": {},
   "outputs": [
    {
     "name": "stdout",
     "output_type": "stream",
     "text": [
      "['송곳니', '발치', '견', '묘', '종', '치와와', '나이', '살', '몸무게', '암수', '여', '거주지', '시', '구', '서울', '서초구', '중성', '화하다', '발치', '하다', '되다', '같다', '노련하다', '자다', '해주다', '것', '같다', '감사하다', '노']\n",
      "송곳니 발치 견 묘 종 치와와 나이 살 몸무게 암수 여 거주지 시 구 서울 서초구 중성 화하다 발치 하다 되다 같다 노련하다 자다 해주다 것 같다 감사하다 노\n",
      "['감사하다', '견', '묘', '종', '치와와', '나이', '살', '몸무게', '암수', '여', '거주지', '시', '구', '서울', '서초구', '합리', '비용', '신경', '써주다', '감사하다', '여자아이', '수술', '처음', '걱정', '하다', '노련하다', '자다', '해주다', '것', '같다', '다니다', '병원', '이전', '하다', '어디', '다니다', '고민', '하다', '조금', '거리', '있다', '쪽', '다니다', '구', '원장', '감사하다', '정']\n",
      "감사하다 견 묘 종 치와와 나이 살 몸무게 암수 여 거주지 시 구 서울 서초구 합리 비용 신경 써주다 감사하다 여자아이 수술 처음 걱정 하다 노련하다 자다 해주다 것 같다 다니다 병원 이전 하다 어디 다니다 고민 하다 조금 거리 있다 쪽 다니다 구 원장 감사하다 정\n",
      "['의사', '선생님', '사랑', '하다', '오늘', '둘째', '중성', '시키다', '만족스럽다', '의사', '선생님', '설명', '친절하다', '고객', '입장', '궁금하다', '점']\n",
      "의사 선생님 사랑 하다 오늘 둘째 중성 시키다 만족스럽다 의사 선생님 설명 친절하다 고객 입장 궁금하다 점\n",
      "['비용', '나가다', '부분', '등', '자세하다', '차분하다', '설명', '해주다', '굉장하다', '많다', '도움', '되어다', '수술', '만족', '이다', '첫째', '전', '홍대', '병원', '중성', '하다', '피', '딱지', '진', '거의', '주일', '넘어가다', '때', '있다', '계속', '신경', '써주다', '하다', '둘째', '수술', '부위', '완전', '깔끔하다']\n",
      "비용 나가다 부분 등 자세하다 차분하다 설명 해주다 굉장하다 많다 도움 되어다 수술 만족 이다 첫째 전 홍대 병원 중성 하다 피 딱지 진 거의 주일 넘어가다 때 있다 계속 신경 써주다 하다 둘째 수술 부위 완전 깔끔하다\n",
      "['애도', '아프다', '것', '같다', '않다', '쌩쌩하다', '자다', '다니다', '둘째', '활', '넘치다', '첫째', '수술', '당일', '눈물', '줄줄', '흐르다', '밥', '물', '자다', '먹다', '거렸어', '걱정', '많다', '직원', '친절하다', '하나', '열', '자다', '챙기다', '정말', '많다', '감동', '받다', '그', '자리', '바로', '첫째', '둘째', '추가', '접종', '예약', '단골', '도장', '찍다', '여러분', '진짜', '여기', '숨기다', '맛집', '같다', '곳', '꼭', '가보다', '완전', '추천', '하다', '천']\n",
      "애도 아프다 것 같다 않다 쌩쌩하다 자다 다니다 둘째 활 넘치다 첫째 수술 당일 눈물 줄줄 흐르다 밥 물 자다 먹다 거렸어 걱정 많다 직원 친절하다 하나 열 자다 챙기다 정말 많다 감동 받다 그 자리 바로 첫째 둘째 추가 접종 예약 단골 도장 찍다 여러분 진짜 여기 숨기다 맛집 같다 곳 꼭 가보다 완전 추천 하다 천\n",
      "['진짜', '감사하다', '우리', '설다', '겁', '많다', '아프다', '걱정', '하다', '수술', '깔끔하다', '해주다', '그', '덕분', '수술', '저녁', '회복하다', '발랄하다', '다니다', '선생님', '친절하다', '설', '간식', '무료', '챙기다', '케어', '가격', '모든', '좋다', '감사하다']\n",
      "진짜 감사하다 우리 설다 겁 많다 아프다 걱정 하다 수술 깔끔하다 해주다 그 덕분 수술 저녁 회복하다 발랄하다 다니다 선생님 친절하다 설 간식 무료 챙기다 케어 가격 모든 좋다 감사하다\n",
      "['송곳니 발치 견 묘 종 치와와 나이 살 몸무게 암수 여 거주지 시 구 서울 서초구 중성 화하다 발치 하다 되다 같다 노련하다 자다 해주다 것 같다 감사하다 노', '감사하다 견 묘 종 치와와 나이 살 몸무게 암수 여 거주지 시 구 서울 서초구 합리 비용 신경 써주다 감사하다 여자아이 수술 처음 걱정 하다 노련하다 자다 해주다 것 같다 다니다 병원 이전 하다 어디 다니다 고민 하다 조금 거리 있다 쪽 다니다 구 원장 감사하다 정', '의사 선생님 사랑 하다 오늘 둘째 중성 시키다 만족스럽다 의사 선생님 설명 친절하다 고객 입장 궁금하다 점', '비용 나가다 부분 등 자세하다 차분하다 설명 해주다 굉장하다 많다 도움 되어다 수술 만족 이다 첫째 전 홍대 병원 중성 하다 피 딱지 진 거의 주일 넘어가다 때 있다 계속 신경 써주다 하다 둘째 수술 부위 완전 깔끔하다', '애도 아프다 것 같다 않다 쌩쌩하다 자다 다니다 둘째 활 넘치다 첫째 수술 당일 눈물 줄줄 흐르다 밥 물 자다 먹다 거렸어 걱정 많다 직원 친절하다 하나 열 자다 챙기다 정말 많다 감동 받다 그 자리 바로 첫째 둘째 추가 접종 예약 단골 도장 찍다 여러분 진짜 여기 숨기다 맛집 같다 곳 꼭 가보다 완전 추천 하다 천', '진짜 감사하다 우리 설다 겁 많다 아프다 걱정 하다 수술 깔끔하다 해주다 그 덕분 수술 저녁 회복하다 발랄하다 다니다 선생님 친절하다 설 간식 무료 챙기다 케어 가격 모든 좋다 감사하다']\n"
     ]
    }
   ],
   "source": [
    "for i, document in enumerate(t):\n",
    "    okt = konlpy.tag.Okt()\n",
    "    clean_words = []\n",
    "    for word in okt.pos(document, stem=True): #어간 추출\n",
    "        if word[1] in ['Noun', 'Verb', 'Adjective']: #명사, 동사, 형용사\n",
    "            clean_words.append(word[0])\n",
    "    print(clean_words) \n",
    "    document = ' '.join(clean_words)\n",
    "    print(document) \n",
    "    t[i] = document\n",
    "print(t)"
   ]
  },
  {
   "cell_type": "code",
   "execution_count": 48,
   "metadata": {},
   "outputs": [],
   "source": [
    "import numpy as np\n",
    "import konlpy"
   ]
  },
  {
   "cell_type": "code",
   "execution_count": 27,
   "metadata": {},
   "outputs": [
    {
     "data": {
      "text/plain": [
       "['송곳니 발치 견 묘 종 치와와 나이 살 몸무게 암수 여 거주지 시 구 서울 서초구 중성 화하다 발치 하다 되다 같다 노련하다 자다 해주다 것 같다 감사하다 노',\n",
       " '감사하다 견 묘 종 치와와 나이 살 몸무게 암수 여 거주지 시 구 서울 서초구 합리 비용 신경 써주다 감사하다 여자아이 수술 처음 걱정 하다 노련하다 자다 해주다 것 같다 다니다 병원 이전 하다 어디 다니다 고민 하다 조금 거리 있다 쪽 다니다 구 원장 감사하다 정',\n",
       " '의사 선생님 사랑 하다 오늘 둘째 중성 시키다 만족스럽다 의사 선생님 설명 친절하다 고객 입장 궁금하다 점',\n",
       " '비용 나가다 부분 등 자세하다 차분하다 설명 해주다 굉장하다 많다 도움 되어다 수술 만족 이다 첫째 전 홍대 병원 중성 하다 피 딱지 진 거의 주일 넘어가다 때 있다 계속 신경 써주다 하다 둘째 수술 부위 완전 깔끔하다',\n",
       " '애도 아프다 것 같다 않다 쌩쌩하다 자다 다니다 둘째 활 넘치다 첫째 수술 당일 눈물 줄줄 흐르다 밥 물 자다 먹다 거렸어 걱정 많다 직원 친절하다 하나 열 자다 챙기다 정말 많다 감동 받다 그 자리 바로 첫째 둘째 추가 접종 예약 단골 도장 찍다 여러분 진짜 여기 숨기다 맛집 같다 곳 꼭 가보다 완전 추천 하다 천',\n",
       " '진짜 감사하다 우리 설다 겁 많다 아프다 걱정 하다 수술 깔끔하다 해주다 그 덕분 수술 저녁 회복하다 발랄하다 다니다 선생님 친절하다 설 간식 무료 챙기다 케어 가격 모든 좋다 감사하다']"
      ]
     },
     "execution_count": 27,
     "metadata": {},
     "output_type": "execute_result"
    }
   ],
   "source": [
    "t"
   ]
  },
  {
   "cell_type": "code",
   "execution_count": 5,
   "metadata": {},
   "outputs": [],
   "source": [
    "import pandas as pd\n",
    "df=pd.read_csv(\"link.csv\")\n",
    "t=df.comment[0].split(',')"
   ]
  },
  {
   "cell_type": "code",
   "execution_count": 49,
   "metadata": {},
   "outputs": [
    {
     "ename": "SyntaxError",
     "evalue": "invalid syntax (<ipython-input-49-b6ee7c77d583>, line 15)",
     "output_type": "error",
     "traceback": [
      "\u001b[1;36m  File \u001b[1;32m\"<ipython-input-49-b6ee7c77d583>\"\u001b[1;36m, line \u001b[1;32m15\u001b[0m\n\u001b[1;33m    data = {'', 'pcomment' : content}\u001b[0m\n\u001b[1;37m                           ^\u001b[0m\n\u001b[1;31mSyntaxError\u001b[0m\u001b[1;31m:\u001b[0m invalid syntax\n"
     ]
    }
   ],
   "source": [
    "for name in path:\n",
    "    df=pd.read_csv(name+\".csv\")\n",
    "    content=[]\n",
    "    for i in range(len(df.comment)):\n",
    "        t=df.comment[i].split(',')\n",
    "        for i, document in enumerate(t):\n",
    "            okt = konlpy.tag.Okt()\n",
    "            clean_words = []\n",
    "            for word in okt.pos(document, stem=True): #어간 추출\n",
    "                if word[1] in ['Noun', 'Verb', 'Adjective']: #명사, 동사, 형용사\n",
    "                    clean_words.append(word[0])\n",
    "            document = ' '.join(clean_words)\n",
    "            t[i] = document\n",
    "        content.append(t)    \n",
    "    data = {'', 'pcomment' : content}\n",
    "    df1=pd.DataFrame(data)\n",
    "    df1.to_csv(name+\"_purecomment.csv\")\n",
    "###정제된 파일 저장        "
   ]
  },
  {
   "cell_type": "code",
   "execution_count": 54,
   "metadata": {},
   "outputs": [],
   "source": [
    "name='korean'\n",
    "df=pd.read_csv(name+\".csv\")\n",
    "content=[]\n",
    "for i in range(len(df.comment)):\n",
    "    t=df.comment[i].split(',')\n",
    "    for i, document in enumerate(t):\n",
    "        okt = konlpy.tag.Okt()\n",
    "        clean_words = []\n",
    "        for word in okt.pos(document, stem=True): #어간 추출\n",
    "            if word[1] in ['Noun', 'Verb', 'Adjective']: #명사, 동사, 형용사\n",
    "                clean_words.append(word[0])\n",
    "        document = ' '.join(clean_words)\n",
    "        t[i] = document\n",
    "content.append(t)    \n",
    "data = { 'pcomment' : content}\n",
    "df1=pd.DataFrame(data)\n",
    "df1.to_csv(name+\"_purecomment.csv\")"
   ]
  },
  {
   "cell_type": "code",
   "execution_count": 52,
   "metadata": {},
   "outputs": [
    {
     "data": {
      "text/plain": [
       "[['양심 진료 보다 틱온 콩 침 해결 안되다 같다 알다 조금 희망 가다 보다 역다 양심 진료 보다 원장 감사하다 일 하다 간호사 감사하다 다시 보다 날 오다 안되다 안되다 콩 크다 믿다 멀다 거리 가다 크게 아프다 없다 상태 다행 생각 이듭 니 다시 한번 콩 진료 보다 감사하다 김 멋지다 원장 콩 평생 손 떨다 있다 최선 다해 주시 원장 감사하다 침술 결제 후 번 맞다 번 더 맞다 나아지다 같다 않다 콩 위해 해보다 하다 중성 화하다 틱 힘들다 새끼 무리 이다 같다 니 콩 무지개다리 건너다 때 키우다 보다 감사하다 다음주 목요일 뵙다 김 친절하다 좋다 아이 갑자기 뒷다리 움직이다 걱정 돼다 침 맞다 허리 디스크 의심 되다 를 추천 해주다 침 통증 완화 침 치료 받다 나오다 밤새 잠 못자다 통증 덜하다 잠 자서 다음 날 를 찍다 친절하다 침 치료 걱정 하다 아프다 않다 자다 맞다 오다 재활 치료 필요하다 침 치료 추천 하다 구 강아지 도 침 효과 있다 것 같다 아프다 하다 덜하다 꾸준하다 하다']]"
      ]
     },
     "execution_count": 52,
     "metadata": {},
     "output_type": "execute_result"
    }
   ],
   "source": [
    "content"
   ]
  },
  {
   "cell_type": "code",
   "execution_count": 6,
   "metadata": {},
   "outputs": [
    {
     "data": {
      "text/plain": [
       "\"['송곳니 발치 견 묘 종 치와와 나이 살 몸무게 암수 여 거주지 시 구 서울 서초구 중성 화하다 발치 하다 되다 같다 노련하다 자다 해주다 것 같다 감사하다 노', '감사하다 견 묘 종 치와와 나이 살 몸무게 암수 여 거주지 시 구 서울 서초구 합리 비용 신경 써주다 감사하다 여자아이 수술 처음 걱정 하다 노련하다 자다 해주다 것 같다 다니다 병원 이전 하다 어디 다니다 고민 하다 조금 거리 있다 쪽 다니다 구 원장 감사하다 정', '의사 선생님 사랑 하다 오늘 둘째 중성 시키다 만족스럽다 의사 선생님 설명 친절하다 고객 입장 궁금하다 점', '비용 나가다 부분 등 자세하다 차분하다 설명 해주다 굉장하다 많다 도움 되어다 수술 만족 이다 첫째 전 홍대 병원 중성 하다 피 딱지 진 거의 주일 넘어가다 때 있다 계속 신경 써주다 하다 둘째 수술 부위 완전 깔끔하다', '애도 아프다 것 같다 않다 쌩쌩하다 자다 다니다 둘째 활 넘치다 첫째 수술 당일 눈물 줄줄 흐르다 밥 물 자다 먹다 거렸어 걱정 많다 직원 친절하다 하나 열 자다 챙기다 정말 많다 감동 받다 그 자리 바로 첫째 둘째 추가 접종 예약 단골 도장 찍다 여러분 진짜 여기 숨기다 맛집 같다 곳 꼭 가보다 완전 추천 하다 천', '진짜 감사하다 우리 설다 겁 많다 아프다 걱정 하다 수술 깔끔하다 해주다 그 덕분 수술 저녁 회복하다 발랄하다 다니다 선생님 친절하다 설 간식 무료 챙기다 케어 가격 모든 좋다 감사하다']\""
      ]
     },
     "execution_count": 6,
     "metadata": {},
     "output_type": "execute_result"
    }
   ],
   "source": [
    "df1=pd.read_csv(\"link_purecomment.csv\")\n",
    "df1.pcomment[0]"
   ]
  },
  {
   "cell_type": "code",
   "execution_count": 6,
   "metadata": {},
   "outputs": [],
   "source": [
    "import re \n",
    "import os \n",
    "import sys \n",
    "import json \n",
    "\n",
    "from konlpy.tag import Kkma \n",
    "from konlpy.tag import Okt \n",
    "import soynlp \n",
    "\n",
    "kkma = Kkma() \n",
    "okt = Okt()"
   ]
  },
  {
   "cell_type": "code",
   "execution_count": 9,
   "metadata": {},
   "outputs": [],
   "source": [
    "def preprocessing(review):\n",
    "    total_review = '' #인풋리뷰 \n",
    "    for idx in range(len(review)):\n",
    "        r = review[idx] \n",
    "        for sentence in kkma.sentences(r):\n",
    "            sentence = re.sub('([a-zA-Z])','',sentence)\n",
    "            sentence = re.sub('[ㄱ-ㅎㅏ-ㅣ]+','',sentence)\n",
    "            sentence = re.sub('[-=+,#/\\?:^$.@*\\\"※~&%ㆍ!』\\\\‘|\\(\\)\\[\\]\\<\\>`\\'…》]','',sentence) \n",
    "            total_review += sentence \n",
    "    return total_review"
   ]
  },
  {
   "cell_type": "code",
   "execution_count": 21,
   "metadata": {},
   "outputs": [],
   "source": [
    "t =df1.pcomment[0]"
   ]
  },
  {
   "cell_type": "code",
   "execution_count": 8,
   "metadata": {},
   "outputs": [
    {
     "data": {
      "text/plain": [
       "[\"['송곳니 발치 견 묘 종 치와와 나이 살 몸무게 암수 여 거주지 시 구 서울 서초구 중성 화하다 발치 하다 되다 같다 노련하다 자다 해주다 것 같다 감사하다 노'\",\n",
       " \" '감사하다 견 묘 종 치와와 나이 살 몸무게 암수 여 거주지 시 구 서울 서초구 합리 비용 신경 써주다 감사하다 여자아이 수술 처음 걱정 하다 노련하다 자다 해주다 것 같다 다니다 병원 이전 하다 어디 다니다 고민 하다 조금 거리 있다 쪽 다니다 구 원장 감사하다 정'\",\n",
       " \" '의사 선생님 사랑 하다 오늘 둘째 중성 시키다 만족스럽다 의사 선생님 설명 친절하다 고객 입장 궁금하다 점'\",\n",
       " \" '비용 나가다 부분 등 자세하다 차분하다 설명 해주다 굉장하다 많다 도움 되어다 수술 만족 이다 첫째 전 홍대 병원 중성 하다 피 딱지 진 거의 주일 넘어가다 때 있다 계속 신경 써주다 하다 둘째 수술 부위 완전 깔끔하다'\",\n",
       " \" '애도 아프다 것 같다 않다 쌩쌩하다 자다 다니다 둘째 활 넘치다 첫째 수술 당일 눈물 줄줄 흐르다 밥 물 자다 먹다 거렸어 걱정 많다 직원 친절하다 하나 열 자다 챙기다 정말 많다 감동 받다 그 자리 바로 첫째 둘째 추가 접종 예약 단골 도장 찍다 여러분 진짜 여기 숨기다 맛집 같다 곳 꼭 가보다 완전 추천 하다 천'\",\n",
       " \" '진짜 감사하다 우리 설다 겁 많다 아프다 걱정 하다 수술 깔끔하다 해주다 그 덕분 수술 저녁 회복하다 발랄하다 다니다 선생님 친절하다 설 간식 무료 챙기다 케어 가격 모든 좋다 감사하다']\"]"
      ]
     },
     "execution_count": 8,
     "metadata": {},
     "output_type": "execute_result"
    }
   ],
   "source": [
    "t"
   ]
  },
  {
   "cell_type": "code",
   "execution_count": 16,
   "metadata": {},
   "outputs": [],
   "source": [
    "positive_emotion = ['좋','친절','괜찮','최고','빠르','짱','훌륭','추천','감사','구수','최상','대박', \n",
    "                     '훈훈','특별','개이득','최고','만족','세련','최고','감동', \n",
    "                     '친절','스윗','센스', '친절','스윗','센스', '잘', '깔끔', '덕', '자세', '착하', '출중', '싸다'\n",
    "                    '합리적']"
   ]
  },
  {
   "cell_type": "code",
   "execution_count": 17,
   "metadata": {},
   "outputs": [],
   "source": [
    "negative_emotion = ['안','않','못','없','아닌','아니', '불', '최악', '별로', '답답']"
   ]
  },
  {
   "cell_type": "code",
   "execution_count": 15,
   "metadata": {},
   "outputs": [],
   "source": [
    "good_feature = {'실력' : ['출중', '뛰어', '좋'],\n",
    "            '가격' : ['싸다', '합리적']\n",
    "            }"
   ]
  },
  {
   "cell_type": "code",
   "execution_count": 10,
   "metadata": {},
   "outputs": [
    {
     "data": {
      "text/plain": [
       "str"
      ]
     },
     "execution_count": 10,
     "metadata": {},
     "output_type": "execute_result"
    }
   ],
   "source": [
    "type(t)"
   ]
  },
  {
   "cell_type": "code",
   "execution_count": 12,
   "metadata": {},
   "outputs": [],
   "source": [
    "a=[]\n",
    "for i in range(len(t)):\n",
    "    a.append(t[i].split(' '))"
   ]
  },
  {
   "cell_type": "code",
   "execution_count": 13,
   "metadata": {},
   "outputs": [
    {
     "data": {
      "text/plain": [
       "[[\"['송곳니\",\n",
       "  '발치',\n",
       "  '견',\n",
       "  '묘',\n",
       "  '종',\n",
       "  '치와와',\n",
       "  '나이',\n",
       "  '살',\n",
       "  '몸무게',\n",
       "  '암수',\n",
       "  '여',\n",
       "  '거주지',\n",
       "  '시',\n",
       "  '구',\n",
       "  '서울',\n",
       "  '서초구',\n",
       "  '중성',\n",
       "  '화하다',\n",
       "  '발치',\n",
       "  '하다',\n",
       "  '되다',\n",
       "  '같다',\n",
       "  '노련하다',\n",
       "  '자다',\n",
       "  '해주다',\n",
       "  '것',\n",
       "  '같다',\n",
       "  '감사하다',\n",
       "  \"노'\"],\n",
       " ['',\n",
       "  \"'감사하다\",\n",
       "  '견',\n",
       "  '묘',\n",
       "  '종',\n",
       "  '치와와',\n",
       "  '나이',\n",
       "  '살',\n",
       "  '몸무게',\n",
       "  '암수',\n",
       "  '여',\n",
       "  '거주지',\n",
       "  '시',\n",
       "  '구',\n",
       "  '서울',\n",
       "  '서초구',\n",
       "  '합리',\n",
       "  '비용',\n",
       "  '신경',\n",
       "  '써주다',\n",
       "  '감사하다',\n",
       "  '여자아이',\n",
       "  '수술',\n",
       "  '처음',\n",
       "  '걱정',\n",
       "  '하다',\n",
       "  '노련하다',\n",
       "  '자다',\n",
       "  '해주다',\n",
       "  '것',\n",
       "  '같다',\n",
       "  '다니다',\n",
       "  '병원',\n",
       "  '이전',\n",
       "  '하다',\n",
       "  '어디',\n",
       "  '다니다',\n",
       "  '고민',\n",
       "  '하다',\n",
       "  '조금',\n",
       "  '거리',\n",
       "  '있다',\n",
       "  '쪽',\n",
       "  '다니다',\n",
       "  '구',\n",
       "  '원장',\n",
       "  '감사하다',\n",
       "  \"정'\"],\n",
       " ['',\n",
       "  \"'의사\",\n",
       "  '선생님',\n",
       "  '사랑',\n",
       "  '하다',\n",
       "  '오늘',\n",
       "  '둘째',\n",
       "  '중성',\n",
       "  '시키다',\n",
       "  '만족스럽다',\n",
       "  '의사',\n",
       "  '선생님',\n",
       "  '설명',\n",
       "  '친절하다',\n",
       "  '고객',\n",
       "  '입장',\n",
       "  '궁금하다',\n",
       "  \"점'\"],\n",
       " ['',\n",
       "  \"'비용\",\n",
       "  '나가다',\n",
       "  '부분',\n",
       "  '등',\n",
       "  '자세하다',\n",
       "  '차분하다',\n",
       "  '설명',\n",
       "  '해주다',\n",
       "  '굉장하다',\n",
       "  '많다',\n",
       "  '도움',\n",
       "  '되어다',\n",
       "  '수술',\n",
       "  '만족',\n",
       "  '이다',\n",
       "  '첫째',\n",
       "  '전',\n",
       "  '홍대',\n",
       "  '병원',\n",
       "  '중성',\n",
       "  '하다',\n",
       "  '피',\n",
       "  '딱지',\n",
       "  '진',\n",
       "  '거의',\n",
       "  '주일',\n",
       "  '넘어가다',\n",
       "  '때',\n",
       "  '있다',\n",
       "  '계속',\n",
       "  '신경',\n",
       "  '써주다',\n",
       "  '하다',\n",
       "  '둘째',\n",
       "  '수술',\n",
       "  '부위',\n",
       "  '완전',\n",
       "  \"깔끔하다'\"],\n",
       " ['',\n",
       "  \"'애도\",\n",
       "  '아프다',\n",
       "  '것',\n",
       "  '같다',\n",
       "  '않다',\n",
       "  '쌩쌩하다',\n",
       "  '자다',\n",
       "  '다니다',\n",
       "  '둘째',\n",
       "  '활',\n",
       "  '넘치다',\n",
       "  '첫째',\n",
       "  '수술',\n",
       "  '당일',\n",
       "  '눈물',\n",
       "  '줄줄',\n",
       "  '흐르다',\n",
       "  '밥',\n",
       "  '물',\n",
       "  '자다',\n",
       "  '먹다',\n",
       "  '거렸어',\n",
       "  '걱정',\n",
       "  '많다',\n",
       "  '직원',\n",
       "  '친절하다',\n",
       "  '하나',\n",
       "  '열',\n",
       "  '자다',\n",
       "  '챙기다',\n",
       "  '정말',\n",
       "  '많다',\n",
       "  '감동',\n",
       "  '받다',\n",
       "  '그',\n",
       "  '자리',\n",
       "  '바로',\n",
       "  '첫째',\n",
       "  '둘째',\n",
       "  '추가',\n",
       "  '접종',\n",
       "  '예약',\n",
       "  '단골',\n",
       "  '도장',\n",
       "  '찍다',\n",
       "  '여러분',\n",
       "  '진짜',\n",
       "  '여기',\n",
       "  '숨기다',\n",
       "  '맛집',\n",
       "  '같다',\n",
       "  '곳',\n",
       "  '꼭',\n",
       "  '가보다',\n",
       "  '완전',\n",
       "  '추천',\n",
       "  '하다',\n",
       "  \"천'\"],\n",
       " ['',\n",
       "  \"'진짜\",\n",
       "  '감사하다',\n",
       "  '우리',\n",
       "  '설다',\n",
       "  '겁',\n",
       "  '많다',\n",
       "  '아프다',\n",
       "  '걱정',\n",
       "  '하다',\n",
       "  '수술',\n",
       "  '깔끔하다',\n",
       "  '해주다',\n",
       "  '그',\n",
       "  '덕분',\n",
       "  '수술',\n",
       "  '저녁',\n",
       "  '회복하다',\n",
       "  '발랄하다',\n",
       "  '다니다',\n",
       "  '선생님',\n",
       "  '친절하다',\n",
       "  '설',\n",
       "  '간식',\n",
       "  '무료',\n",
       "  '챙기다',\n",
       "  '케어',\n",
       "  '가격',\n",
       "  '모든',\n",
       "  '좋다',\n",
       "  \"감사하다']\"]]"
      ]
     },
     "execution_count": 13,
     "metadata": {},
     "output_type": "execute_result"
    }
   ],
   "source": [
    "a"
   ]
  },
  {
   "cell_type": "code",
   "execution_count": 40,
   "metadata": {},
   "outputs": [
    {
     "data": {
      "text/plain": [
       "4"
      ]
     },
     "execution_count": 40,
     "metadata": {},
     "output_type": "execute_result"
    }
   ],
   "source": [
    "df.commentcounts[0]"
   ]
  },
  {
   "cell_type": "code",
   "execution_count": 18,
   "metadata": {},
   "outputs": [],
   "source": [
    "def emotion_count(t):\n",
    "    pc=0\n",
    "    nc=0\n",
    "\n",
    "    for i in range(len(t)): \n",
    "        for j in positive_emotion:\n",
    "            pc = pc+t[i].count(j)\n",
    "    for i in range(len(t)): \n",
    "        for j in negative_emotion:\n",
    "            nc = nc+t[i].count(j)\n",
    "    return [pc, nc]"
   ]
  },
  {
   "cell_type": "code",
   "execution_count": 22,
   "metadata": {},
   "outputs": [],
   "source": [
    "def emotion_count(t):\n",
    "    pc=0\n",
    "    nc=0\n",
    "    for j in positive_emotion:\n",
    "        pc = pc+t.count(j)\n",
    "    for j in negative_emotion:\n",
    "         nc = nc+t.count(j)\n",
    "    return [pc, nc]"
   ]
  },
  {
   "cell_type": "code",
   "execution_count": 23,
   "metadata": {},
   "outputs": [],
   "source": [
    "a=emotion_count(t)"
   ]
  },
  {
   "cell_type": "code",
   "execution_count": 24,
   "metadata": {},
   "outputs": [
    {
     "data": {
      "text/plain": [
       "[24, 1]"
      ]
     },
     "execution_count": 24,
     "metadata": {},
     "output_type": "execute_result"
    }
   ],
   "source": [
    "a"
   ]
  },
  {
   "cell_type": "code",
   "execution_count": 74,
   "metadata": {},
   "outputs": [
    {
     "ename": "AttributeError",
     "evalue": "'list' object has no attribute 'find'",
     "output_type": "error",
     "traceback": [
      "\u001b[1;31m---------------------------------------------------------------------------\u001b[0m",
      "\u001b[1;31mAttributeError\u001b[0m                            Traceback (most recent call last)",
      "\u001b[1;32m<ipython-input-74-ee82d786cf66>\u001b[0m in \u001b[0;36m<module>\u001b[1;34m\u001b[0m\n\u001b[1;32m----> 1\u001b[1;33m \u001b[1;32mdel\u001b[0m \u001b[0mc\u001b[0m\u001b[1;33m[\u001b[0m\u001b[0mc\u001b[0m\u001b[1;33m.\u001b[0m\u001b[0mfind\u001b[0m\u001b[1;33m(\u001b[0m\u001b[1;34m'a'\u001b[0m\u001b[1;33m)\u001b[0m\u001b[1;33m]\u001b[0m\u001b[1;33m\u001b[0m\u001b[1;33m\u001b[0m\u001b[0m\n\u001b[0m",
      "\u001b[1;31mAttributeError\u001b[0m: 'list' object has no attribute 'find'"
     ]
    }
   ],
   "source": [
    "del c[c.find('a')] "
   ]
  },
  {
   "cell_type": "code",
   "execution_count": null,
   "metadata": {},
   "outputs": [],
   "source": []
  },
  {
   "cell_type": "code",
   "execution_count": 1,
   "metadata": {},
   "outputs": [],
   "source": [
    "import json\n",
    "\n",
    "class KnuSL():\n",
    "\n",
    "\tdef data_list(wordname):\t\n",
    "\t\twith open('data/SentiWord_info.json', encoding='utf-8-sig', mode='r') as f:\n",
    "\t\t\tdata = json.load(f)\n",
    "\t\tresult = ['None','None']\t\n",
    "\t\tfor i in range(0, len(data)):\n",
    "\t\t\tif data[i]['word'] == wordname:\n",
    "\t\t\t\tresult.pop()\n",
    "\t\t\t\tresult.pop()\n",
    "\t\t\t\tresult.append(data[i]['word_root'])\n",
    "\t\t\t\tresult.append(data[i]['polarity'])\t\n",
    "\t\t\n",
    "\t\tr_word = result[0]\n",
    "\t\ts_word = result[1]\n",
    "\t\t\t\t\t\t\t\n",
    "\t\tprint('어근 : ' + r_word)\n",
    "\t\tprint('극성 : ' + s_word)\t\t\n",
    "\t\t\n",
    "\t\t\n",
    "\t\treturn r_word, s_word"
   ]
  },
  {
   "cell_type": "code",
   "execution_count": 2,
   "metadata": {},
   "outputs": [],
   "source": [
    "ksl=KnuSL()"
   ]
  },
  {
   "cell_type": "code",
   "execution_count": 6,
   "metadata": {},
   "outputs": [
    {
     "ename": "TypeError",
     "evalue": "data_list() takes 1 positional argument but 2 were given",
     "output_type": "error",
     "traceback": [
      "\u001b[1;31m---------------------------------------------------------------------------\u001b[0m",
      "\u001b[1;31mTypeError\u001b[0m                                 Traceback (most recent call last)",
      "\u001b[1;32m<ipython-input-6-01ad814e0d43>\u001b[0m in \u001b[0;36m<module>\u001b[1;34m\u001b[0m\n\u001b[1;32m----> 1\u001b[1;33m \u001b[0mksl\u001b[0m\u001b[1;33m.\u001b[0m\u001b[0mdata_list\u001b[0m\u001b[1;33m(\u001b[0m\u001b[1;34m'싫'\u001b[0m\u001b[1;33m)\u001b[0m\u001b[1;33m\u001b[0m\u001b[1;33m\u001b[0m\u001b[0m\n\u001b[0m",
      "\u001b[1;31mTypeError\u001b[0m: data_list() takes 1 positional argument but 2 were given"
     ]
    }
   ],
   "source": [
    "ksl.data_list('싫')"
   ]
  },
  {
   "cell_type": "code",
   "execution_count": null,
   "metadata": {},
   "outputs": [],
   "source": []
  },
  {
   "cell_type": "code",
   "execution_count": null,
   "metadata": {},
   "outputs": [],
   "source": []
  },
  {
   "cell_type": "code",
   "execution_count": null,
   "metadata": {},
   "outputs": [],
   "source": []
  },
  {
   "cell_type": "code",
   "execution_count": null,
   "metadata": {},
   "outputs": [],
   "source": []
  },
  {
   "cell_type": "code",
   "execution_count": null,
   "metadata": {},
   "outputs": [],
   "source": []
  }
 ],
 "metadata": {
  "kernelspec": {
   "display_name": "Python 3",
   "language": "python",
   "name": "python3"
  },
  "language_info": {
   "codemirror_mode": {
    "name": "ipython",
    "version": 3
   },
   "file_extension": ".py",
   "mimetype": "text/x-python",
   "name": "python",
   "nbconvert_exporter": "python",
   "pygments_lexer": "ipython3",
   "version": "3.7.6"
  }
 },
 "nbformat": 4,
 "nbformat_minor": 4
}
